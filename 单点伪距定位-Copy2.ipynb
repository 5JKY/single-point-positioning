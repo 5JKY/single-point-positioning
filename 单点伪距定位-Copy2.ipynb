{
 "cells": [
  {
   "cell_type": "markdown",
   "id": "cleared-reference",
   "metadata": {},
   "source": [
    "# 单历元定位要求基于GPS系统的C1C和C2W观测值，组成无电离层组合的观测值，计算2019年7月15号06:55:30的坐标。\n",
    "## hkws1960.19o是观测文件，igs20621.sp3是精密星历文件。"
   ]
  },
  {
   "cell_type": "markdown",
   "id": "nonprofit-plane",
   "metadata": {},
   "source": [
    "##### 1.读取hkws1960.19o观测文件，将GPS系统的C1C和C2W观测值分别存在两个列表中。"
   ]
  },
  {
   "cell_type": "code",
   "execution_count": 1,
   "id": "royal-filename",
   "metadata": {},
   "outputs": [],
   "source": [
    "import numpy as np\n",
    "\n",
    "obsfile = 'hkws1960.19o'\n",
    "satnames = [] # 保存卫星编号\n",
    "c1c = [] # 保存L1伪距观测值\n",
    "c2w = [] # 保存L2伪距观测值\n",
    "\n",
    "with open(obsfile) as file_object:\n",
    "    for line in file_object:\n",
    "        if line[2:29] == '2019 07 15 06 55 30.0000000':\n",
    "            number = int(line[32:35])\n",
    "            for i in range(number):\n",
    "                if line[0] == 'G':  # 选出所有GPS观测数据\n",
    "                    # 每个数据占16列，第i个数据的起始列数为4 + 16(𝑖 − 1)\n",
    "                    satnames.append(line[0:3])\n",
    "                    c1c.append(float(line[3+16*(1-1):4+16*(1-1)+16]))  # C1C为第1个数据\n",
    "                    c2w.append(float(line[3+16*(9-1)-1:4+16*(9-1)+16]))  #C2W为第9个数据\n",
    "                line = file_object.readline() # 读取行不以字符'G'开头，继续向下读取\n",
    "            break # 收集完'2019 07 15 06 55 30.0000000'时的数据即可退出文件读取循环\n",
    "\n",
    "if len(c1c)==len(c2w):\n",
    "    satnum = len(c1c) \n",
    "    \n",
    "p1 = np.array(c1c) #存在1*9的矩阵中\n",
    "p2 = np.array(c2w)"
   ]
  },
  {
   "cell_type": "code",
   "execution_count": 2,
   "id": "varied-potter",
   "metadata": {},
   "outputs": [
    {
     "data": {
      "text/plain": [
       "['G02', 'G05', 'G06', 'G09', 'G12', 'G17', 'G19', 'G23', 'G28']"
      ]
     },
     "execution_count": 2,
     "metadata": {},
     "output_type": "execute_result"
    }
   ],
   "source": [
    "satnames"
   ]
  },
  {
   "cell_type": "markdown",
   "id": "celtic-portrait",
   "metadata": {},
   "source": [
    "##### 2.读取igs20621.sp3精密星历文件，获得卫星所在星历的时间、位置和钟差信息\n"
   ]
  },
  {
   "cell_type": "code",
   "execution_count": 3,
   "id": "familiar-canvas",
   "metadata": {},
   "outputs": [],
   "source": [
    "igsT = [] # 存储观测卫星在7月15各个所取星历的时间 (min)\n",
    "sXdata = [] # 存储观测卫星在各个所取星历时间的x坐标 (km)\n",
    "sYdata = [] # 存储观测卫星在各个所取星历时间的y坐标 (km)\n",
    "sZdata = [] # 存储观测卫星在各个所取星历时间的z坐标 (km)\n",
    "sClock = [] # 存储观测卫星在各个所取星历时间的钟差(μs)\n",
    "    \n",
    "def read_igs(time):\n",
    "    igsT.clear()\n",
    "    sXdata.clear()\n",
    "    sYdata.clear()\n",
    "    sZdata.clear()\n",
    "    sClock.clear()\n",
    "  \n",
    "    hour = time // 60\n",
    "    minute = (time-hour*60) % 60 // 1 \n",
    "    count = minute // 15 \n",
    "    start_time = hour * 60 + count * 15 - 4*15   # 0 -45 -30 -15 0 15 30 45 找到起始取点时间\n",
    "    \n",
    "    with open('igs20621.sp3') as file_object:\n",
    "        for line in file_object:\n",
    "            if line[0] == '*' and float(line[14:16]) == (start_time // 60) and float(line[17:19]) == (start_time % 60):\n",
    "                igsT.append(float(line[14:16])*60 + float(line[17:19]) + float(line[20:31])/60) \n",
    "                # 卫星位置（km）和钟差（μs）依次为X、Y、Z、钟差每个数据占14列\n",
    "                # 第i个数据的起始列为 5 + 14(i - 1)\n",
    "                while(len(igsT)<=10):   # 以时间t为准，向前找5组精密星历，向后找5组精密星历，需10组\n",
    "                    line = file_object.readline()\n",
    "                    for n in range(satnum):  # 读一组选取时间点的星历，存储9个观测卫星参数\n",
    "                        while line[1:4] != satnames[n]:\n",
    "                            line = file_object.readline()\n",
    "                        sXdata.append(float(line[4+14*(1-1):5+14*(1-1)+14]))                            \n",
    "                        sYdata.append(float(line[4+14*(2-1):5+14*(2-1)+14]))\n",
    "                        sZdata.append(float(line[4+14*(3-1):5+14*(3-1)+14]))\n",
    "                        sClock.append(float(line[4+14*(4-1):5+14*(4-1)+14]))\n",
    "                    if len(igsT) == 10:\n",
    "                        break\n",
    "                    else:\n",
    "                        while(line[0] != '*'):\n",
    "                            line = file_object.readline()\n",
    "                        igsT.append(float(line[14:16])*60 + float(line[17:19]) + float(line[20:31])/60) \n",
    "            else:\n",
    "                line = file_object.readline()\n",
    "            \n",
    "    sXmtr = np.array(sXdata).reshape(10, satnum)\n",
    "    sYmtr = np.array(sYdata).reshape(10, satnum)\n",
    "    sZmtr = np.array(sZdata).reshape(10, satnum)\n",
    "    sCmtr = np.array(sClock).reshape(10, satnum)\n",
    "    \n",
    "    return(sXmtr, sYmtr, sZmtr, sCmtr)\n",
    "    \n"
   ]
  },
  {
   "cell_type": "code",
   "execution_count": 4,
   "id": "formed-carol",
   "metadata": {},
   "outputs": [
    {
     "data": {
      "text/plain": [
       "345"
      ]
     },
     "execution_count": 4,
     "metadata": {},
     "output_type": "execute_result"
    }
   ],
   "source": [
    "5*60+45"
   ]
  },
  {
   "cell_type": "code",
   "execution_count": 5,
   "id": "finnish-collar",
   "metadata": {},
   "outputs": [],
   "source": [
    "time = 6*60 + 55 + 30/60\n",
    "hour = time // 60\n",
    "minute = (time-hour*60) % 60 // 1 \n",
    "count = minute // 15\n",
    "start_time = hour * 60 + count * 15 - 4*15  # 0 -45 -30 -15 0 15 30 45 找到起始取点时间"
   ]
  },
  {
   "cell_type": "code",
   "execution_count": 6,
   "id": "exceptional-storm",
   "metadata": {},
   "outputs": [
    {
     "data": {
      "text/plain": [
       "5.0"
      ]
     },
     "execution_count": 6,
     "metadata": {},
     "output_type": "execute_result"
    }
   ],
   "source": [
    "start_time // 60"
   ]
  },
  {
   "cell_type": "markdown",
   "id": "sublime-flavor",
   "metadata": {},
   "source": [
    "##### 3.以igsT时间为自变量使用9阶拉格朗日插值，解算出所求时刻的观测卫星信息"
   ]
  },
  {
   "cell_type": "code",
   "execution_count": 7,
   "id": "classical-momentum",
   "metadata": {},
   "outputs": [],
   "source": [
    "from scipy.interpolate import lagrange\n",
    "\n",
    "def interpolation(t): \n",
    "    # 对于每个时间，重新读取接近该时间点的10个星历\n",
    "    sXmtr, sYmtr, sZmtr, sCmtr = read_igs(t)\n",
    "    xs = []\n",
    "    ys = []\n",
    "    zs = []\n",
    "    dts = []\n",
    "    # 对于9个卫星，分别使用10个历元的卫星位置和钟差插值时间t\n",
    "    # 得出每个卫星的位置在时间t的位置和钟差\n",
    "    for i in range(satnum):\n",
    "        sx_poly = lagrange(igsT, sXmtr[:,i])\n",
    "        xs.append(sx_poly(t))\n",
    "        sy_poly = lagrange(igsT, sYmtr[:,i])\n",
    "        ys.append(sy_poly(t))\n",
    "        sz_poly = lagrange(igsT, sZmtr[:,i])\n",
    "        zs.append(sz_poly(t))\n",
    "        sc_poly = lagrange(igsT, sCmtr[:,i])\n",
    "        dts.append(sc_poly(t))\n",
    "\n",
    "    # 将观测卫星的位置和钟差转换为矩阵\n",
    "    satPos = np.array([xs, ys, zs])\n",
    "    dTs = np.array(dts)\n",
    "    satPos *= 1000 # km转换为m\n",
    "    dTs *= 10**(-6) # μs转换为s\n",
    "    return (satPos, dTs)\n"
   ]
  },
  {
   "cell_type": "code",
   "execution_count": null,
   "id": "radical-killing",
   "metadata": {},
   "outputs": [],
   "source": []
  },
  {
   "cell_type": "markdown",
   "id": "artistic-honey",
   "metadata": {},
   "source": [
    "##### 4.使用最小二乘法求接收机x,y,z和dx,dy,dz,ddt。组成观测方程(V=L-A*dX, P)，P可取单位阵。\n"
   ]
  },
  {
   "cell_type": "code",
   "execution_count": 8,
   "id": "focused-pacific",
   "metadata": {
    "scrolled": false
   },
   "outputs": [],
   "source": [
    "from math import sqrt\n",
    "from numpy.linalg import inv\n",
    "\n",
    "f1 = 1575.42 # C1C载波频率\n",
    "f2 = 1227.6 # C2W载波频率\n",
    "c = 299792458\n",
    "PC = f1**2/(f1**2 - f2**2)*p1 - f2**2/(f1**2 - f2**2)*p2 # 无电离层组合观测值\n",
    "dX = np.ones(4)\n",
    "X = np.zeros(4)\n",
    "t0 = 6*60 + 55 + 30/60 \n",
    "sP, dT =  interpolation(t0)\n",
    "\n",
    "while sqrt(dX[0]**2+dX[1]**2+dX[2]**2) >= 0.0001:\n",
    "    Li = []\n",
    "    Ai = []\n",
    "    for i in range(satnum):\n",
    "        rho = sqrt((sP[0,i]-X[0])**2+(sP[1,i]-X[1])**2+(sP[2,i]-X[2])**2)\n",
    "        t = t0 - rho / c / 60\n",
    "        sP, dT = interpolation(t)  # 更新时间，重新插值\n",
    "        Li.append(PC[i]-rho-c*X[3]+c*dT[i])\n",
    "        Ai.append([(X[0]-sP[0,i])/rho, (X[1]-sP[1,i])/rho, (X[2]-sP[2,i])/rho, c])\n",
    "    \n",
    "    A = np.array(Ai).reshape(satnum, 4)\n",
    "    L = np.array(Li)\n",
    "    Q = inv(A.T.dot(A))\n",
    "    dX = Q.dot(A.T.dot(L))\n",
    "    X = X + dX\n",
    "    \n"
   ]
  },
  {
   "cell_type": "code",
   "execution_count": 9,
   "id": "missing-blowing",
   "metadata": {},
   "outputs": [
    {
     "data": {
      "text/plain": [
       "array([-2.42990871e+06,  5.37378683e+06,  2.41907242e+06, -7.29361443e-07])"
      ]
     },
     "execution_count": 9,
     "metadata": {},
     "output_type": "execute_result"
    }
   ],
   "source": [
    "X"
   ]
  },
  {
   "cell_type": "code",
   "execution_count": 10,
   "id": "oriental-feeling",
   "metadata": {},
   "outputs": [
    {
     "data": {
      "text/plain": [
       "array([-1.59410745e-07,  3.13743336e-06,  1.03115627e-06,  4.70443994e-15])"
      ]
     },
     "execution_count": 10,
     "metadata": {},
     "output_type": "execute_result"
    }
   ],
   "source": [
    "dX"
   ]
  },
  {
   "cell_type": "code",
   "execution_count": null,
   "id": "quantitative-debate",
   "metadata": {},
   "outputs": [],
   "source": []
  },
  {
   "cell_type": "code",
   "execution_count": null,
   "id": "worth-trailer",
   "metadata": {},
   "outputs": [],
   "source": []
  },
  {
   "cell_type": "code",
   "execution_count": null,
   "id": "formed-sussex",
   "metadata": {},
   "outputs": [],
   "source": []
  }
 ],
 "metadata": {
  "kernelspec": {
   "display_name": "Python 3",
   "language": "python",
   "name": "python3"
  },
  "language_info": {
   "codemirror_mode": {
    "name": "ipython",
    "version": 3
   },
   "file_extension": ".py",
   "mimetype": "text/x-python",
   "name": "python",
   "nbconvert_exporter": "python",
   "pygments_lexer": "ipython3",
   "version": "3.8.5"
  }
 },
 "nbformat": 4,
 "nbformat_minor": 5
}
