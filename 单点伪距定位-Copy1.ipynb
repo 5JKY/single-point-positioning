{
 "cells": [
  {
   "cell_type": "markdown",
   "id": "cleared-reference",
   "metadata": {},
   "source": [
    "# 单历元定位要求基于GPS系统的C1C和C2W观测值，组成无电离层组合的观测值，计算2019年7月15号06:55:30的坐标。\n",
    "## hkws1960.19o是观测文件，igs20621.sp3是精密星历文件。"
   ]
  },
  {
   "cell_type": "markdown",
   "id": "nonprofit-plane",
   "metadata": {},
   "source": [
    "##### 1.读取hkws1960.19o观测文件，将GPS系统的C1C和C2W观测值分别存在两个列表中。"
   ]
  },
  {
   "cell_type": "code",
   "execution_count": 1,
   "id": "royal-filename",
   "metadata": {},
   "outputs": [],
   "source": [
    "import numpy as np\n",
    "\n",
    "obsfile = 'hkws1960.19o'\n",
    "satnames = [] # 保存卫星编号\n",
    "c1c = [] # 保存L1伪距观测值\n",
    "c2w = [] # 保存L2伪距观测值\n",
    "\n",
    "with open(obsfile) as file_object:\n",
    "    for line in file_object:\n",
    "        if line[2:29] == '2019 07 15 06 55 30.0000000':\n",
    "            number = int(line[32:35])\n",
    "            for i in range(number):\n",
    "                if line[0] == 'G':  # 选出所有GPS观测数据\n",
    "                    # 每个数据占16列，第i个数据的起始列数为4 + 16(𝑖 − 1)\n",
    "                    satnames.append(line[0:3])\n",
    "                    c1c.append(float(line[3+16*(1-1):4+16*(1-1)+16]))  # C1C为第1个数据\n",
    "                    c2w.append(float(line[3+16*(9-1)-1:4+16*(9-1)+16]))  #C2W为第9个数据\n",
    "                line = file_object.readline() # 读取行不以字符'G'开头，继续向下读取\n",
    "            break # 收集完'2019 07 15 06 55 30.0000000'时的数据即可退出文件读取循环\n",
    "\n",
    "if len(c1c)==len(c2w):\n",
    "    satnum = len(c1c) \n",
    "    \n",
    "p1 = np.array(c1c) #存在1*9的矩阵中\n",
    "p2 = np.array(c2w)"
   ]
  },
  {
   "cell_type": "code",
   "execution_count": 2,
   "id": "varied-potter",
   "metadata": {},
   "outputs": [
    {
     "data": {
      "text/plain": [
       "['G02', 'G05', 'G06', 'G09', 'G12', 'G17', 'G19', 'G23', 'G28']"
      ]
     },
     "execution_count": 2,
     "metadata": {},
     "output_type": "execute_result"
    }
   ],
   "source": [
    "satnames"
   ]
  },
  {
   "cell_type": "markdown",
   "id": "celtic-portrait",
   "metadata": {},
   "source": [
    "##### 2.读取igs20621.sp3精密星历文件，获得卫星所在星历的时间、位置和钟差信息"
   ]
  },
  {
   "cell_type": "code",
   "execution_count": 3,
   "id": "familiar-canvas",
   "metadata": {},
   "outputs": [],
   "source": [
    "igsfile = 'igs20621.sp3'\n",
    "# 需定位的时间为2019年7月15号06:55:30 \n",
    "# 根据SP3文件每15min一组数据（起始时刻为00:00:00），在需定位时间之前最接近的星历时间为2019年7月15号06:45:00 \n",
    "# 从这个时间点再向前推4组，即选取2019年7月15号05:45：00 \n",
    "igsT = [] # 存储观测卫星在7月15各个所取星历的时间 (min)\n",
    "sXdata = [] # 存储观测卫星在各个所取星历时间的x坐标 (km)\n",
    "sYdata = [] # 存储观测卫星在各个所取星历时间的y坐标 (km)\n",
    "sZdata = [] # 存储观测卫星在各个所取星历时间的z坐标 (km)\n",
    "sClock = [] # 存储观测卫星在各个所取星历时间的钟差(μs)\n",
    "\n",
    "with open(igsfile) as file_object:\n",
    "    for line in file_object:\n",
    "        if line[3:31] == '2019  7 15  5 45  0.00000000':\n",
    "            igsT.append(float(line[14:16])*60 + float(line[17:19]) + float(line[20:31])/60) \n",
    "            \n",
    "            # 卫星位置（km）和钟差（μs）依次为X、Y、Z、钟差每个数据占14列\n",
    "            # 第i个数据的起始列为 5 + 14(i - 1)\n",
    "            while(len(igsT)<=10):   # 以时间t为准，向前找5组精密星历，向后找5组精密星历，需10组\n",
    "                line = file_object.readline()\n",
    "                for n in range(satnum):  # 读一组选取时间点的星历，存储9个观测卫星参数\n",
    "                    while line[1:4] != satnames[n]:\n",
    "                        line = file_object.readline()\n",
    "                    sXdata.append(float(line[4+14*(1-1):5+14*(1-1)+14]))                            \n",
    "                    sYdata.append(float(line[4+14*(2-1):5+14*(2-1)+14]))\n",
    "                    sZdata.append(float(line[4+14*(3-1):5+14*(3-1)+14]))\n",
    "                    sClock.append(float(line[4+14*(4-1):5+14*(4-1)+14]))\n",
    "                if len(igsT) == 10:\n",
    "                    break\n",
    "                else:\n",
    "                    while(line[0] != '*'):\n",
    "                        line = file_object.readline()\n",
    "                    igsT.append(float(line[14:16])*60 + float(line[17:19]) + float(line[20:31])/60) \n",
    "            break\n",
    "\n"
   ]
  },
  {
   "cell_type": "code",
   "execution_count": 4,
   "id": "formed-carol",
   "metadata": {},
   "outputs": [
    {
     "data": {
      "text/plain": [
       "[345.0, 360.0, 375.0, 390.0, 405.0, 420.0, 435.0, 450.0, 465.0, 480.0]"
      ]
     },
     "execution_count": 4,
     "metadata": {},
     "output_type": "execute_result"
    }
   ],
   "source": [
    "igsT"
   ]
  },
  {
   "cell_type": "code",
   "execution_count": 5,
   "id": "finnish-collar",
   "metadata": {},
   "outputs": [],
   "source": [
    "sXmtr = np.array(sXdata).reshape(10, satnum)\n",
    "sYmtr = np.array(sYdata).reshape(10, satnum)\n",
    "sZmtr = np.array(sZdata).reshape(10,satnum)\n",
    "sCmtr = np.array(sClock).reshape(10,satnum)\n"
   ]
  },
  {
   "cell_type": "code",
   "execution_count": 6,
   "id": "exceptional-storm",
   "metadata": {},
   "outputs": [
    {
     "data": {
      "text/plain": [
       "[345.0, 360.0, 375.0, 390.0, 405.0, 420.0, 435.0, 450.0, 465.0, 480.0]"
      ]
     },
     "execution_count": 6,
     "metadata": {},
     "output_type": "execute_result"
    }
   ],
   "source": [
    "sCmtr[0]\n",
    "igsT"
   ]
  },
  {
   "cell_type": "markdown",
   "id": "sublime-flavor",
   "metadata": {},
   "source": [
    "##### 3.以igsT时间（观测卫星在7月15各个所取星历的时间）为自变量使用9阶拉格朗日插值，解算出所求时刻的观测卫星信息"
   ]
  },
  {
   "cell_type": "code",
   "execution_count": 7,
   "id": "classical-momentum",
   "metadata": {},
   "outputs": [
    {
     "data": {
      "text/plain": [
       "(array([[  8272674.04194651,   3004769.92813344,  -6722885.74079246,\n",
       "         -24619532.42704511,  10725289.08825757, -19461235.04373543,\n",
       "         -15215274.3616507 , -20044522.80090068, -12434224.86064616],\n",
       "        [ 18950734.94559107,  25719521.16120499,  13377785.48364868,\n",
       "           6951921.7413956 ,  15078474.80341369,  15406844.35854852,\n",
       "          16040511.80308064,  -3911548.71314507,  18272442.65170731],\n",
       "        [ 17361958.82564647,  -5527210.67366975,  21976650.07236875,\n",
       "           7112125.88797633,  18899702.07955877,   9732189.52254548,\n",
       "          14454116.67377008,  17529701.44389936, -14197818.86833319]]),\n",
       " array([-2.60448891e-04,  6.62976137e-08,  1.49128599e-04,  3.70602640e-04,\n",
       "         2.23773109e-04,  8.89895810e-05, -2.93916237e-04, -1.77132049e-04,\n",
       "         7.66443274e-04]))"
      ]
     },
     "execution_count": 7,
     "metadata": {},
     "output_type": "execute_result"
    }
   ],
   "source": [
    "from scipy.interpolate import lagrange\n",
    "\n",
    "def interpolation(rho):\n",
    "    xs = []\n",
    "    ys = []\n",
    "    zs = []\n",
    "    dts = []\n",
    "    t = 6*60 + 55 + 30/60   # t0为初始插值时间\n",
    "    c = 299792458\n",
    "    # 对于9个卫星，分别使用10个历元的卫星位置和钟差求出拉格朗日插值多项式\n",
    "    # 将插值时间 t-rho/c/60代入拉格朗日插值多项式\n",
    "    # 得出每个卫星的位置在时间t的位置和钟差\n",
    "    for i in range(satnum):\n",
    "        sx_poly = lagrange(igsT, sXmtr[:,i])\n",
    "        xs.append(sx_poly(t-rho / c / 60))\n",
    "        sy_poly = lagrange(igsT, sYmtr[:,i])   \n",
    "        ys.append(sy_poly(t- rho / c / 60))\n",
    "        sz_poly = lagrange(igsT, sZmtr[:,i])\n",
    "        zs.append(sz_poly(t- rho / c / 60))\n",
    "        sc_poly = lagrange(igsT, sCmtr[:,i])\n",
    "        dts.append(sc_poly(t- rho / c / 60))\n",
    "     # 将观测卫星的位置和钟差转换为矩阵\n",
    "    satPos = np.array([xs, ys, zs])\n",
    "    dTs = np.array(dts)\n",
    "    satPos *= 1000 # km转换为m\n",
    "    dTs *= 10**(-6) # μs转换为s\n",
    "    return (satPos, dTs)\n",
    "\n",
    "interpolation(0)"
   ]
  },
  {
   "cell_type": "code",
   "execution_count": 8,
   "id": "annual-gamma",
   "metadata": {
    "scrolled": true
   },
   "outputs": [
    {
     "data": {
      "text/plain": [
       "array([[  8272674.04194651,   3004769.92813344,  -6722885.74079246,\n",
       "        -24619532.42704511,  10725289.08825757, -19461235.04373543,\n",
       "        -15215274.3616507 , -20044522.80090068, -12434224.86064616],\n",
       "       [ 18950734.94559107,  25719521.16120499,  13377785.48364868,\n",
       "          6951921.7413956 ,  15078474.80341369,  15406844.35854852,\n",
       "         16040511.80308064,  -3911548.71314507,  18272442.65170731],\n",
       "       [ 17361958.82564647,  -5527210.67366975,  21976650.07236875,\n",
       "          7112125.88797633,  18899702.07955877,   9732189.52254548,\n",
       "         14454116.67377008,  17529701.44389936, -14197818.86833319]])"
      ]
     },
     "execution_count": 8,
     "metadata": {},
     "output_type": "execute_result"
    }
   ],
   "source": [
    "sPos, T = interpolation(0)\n",
    "sPos"
   ]
  },
  {
   "cell_type": "code",
   "execution_count": 9,
   "id": "radical-killing",
   "metadata": {},
   "outputs": [
    {
     "data": {
      "text/plain": [
       "array([22928040.20791756, 22507455.08689565, 21518295.39909832,\n",
       "       22625415.36830399, 23147862.10920567, 21050340.28902534,\n",
       "       20631705.07151567, 25048028.2818291 , 23063324.47256333])"
      ]
     },
     "execution_count": 9,
     "metadata": {},
     "output_type": "execute_result"
    }
   ],
   "source": [
    "f1 = 1575.42 # C1C载波频率\n",
    "f2 = 1227.6 # C2W载波频率\n",
    "PC = f1**2/(f1**2 - f2**2)*p1 - f2**2/(f1**2 - f2**2)*p2\n",
    "PC"
   ]
  },
  {
   "cell_type": "markdown",
   "id": "artistic-honey",
   "metadata": {},
   "source": [
    "##### 4.使用最小二乘法求接收机x,y,z和dx,dy,dz,ddt。组成观测方程(V=L-A*dX, P)，P可取单位阵。\n"
   ]
  },
  {
   "cell_type": "code",
   "execution_count": null,
   "id": "focused-pacific",
   "metadata": {
    "scrolled": false
   },
   "outputs": [],
   "source": [
    "from math import sqrt\n",
    "from numpy.linalg import inv\n",
    "\n",
    "f1 = 1575.42 # C1C载波频率\n",
    "f2 = 1227.6 # C2W载波频率\n",
    "c = 299792458\n",
    "PC = f1**2/(f1**2 - f2**2)*p1 - f2**2/(f1**2 - f2**2)*p2 # 无电离层组合观测值\n",
    "dX = np.ones(4)\n",
    "X = np.zeros(4)\n",
    "rex = []\n",
    "redx = []\n",
    "sPos, sdT = interpolation(0)\n",
    "\n",
    "while sqrt(dX[0]**2+dX[1]**2+dX[2]**2) >= 0.0001:\n",
    "    Li = []\n",
    "    Ai = []\n",
    "    for i in range(satnum):\n",
    "        rho = sqrt((sPos[0,i]-X[0])**2+(sPos[1,i]-X[1])**2+(sPos[2,i]-X[2])**2)\n",
    "        sPos, sdT = interpolation(rho)\n",
    "        rho = sqrt((sPos[0,i]-X[0])**2+(sPos[1,i]-X[1])**2+(sPos[2,i]-X[2])**2)\n",
    "        Li.append(PC[i]-rho-c*X[3]+c*sdT[i])\n",
    "        Ai.append([(X[0]-sPos[0,i])/rho, (X[1]-sPos[1,i])/rho, (X[2]-sPos[2,i])/rho, c])\n",
    "\n",
    "    A = np.array(Ai).reshape(satnum, 4) # 系数矩阵\n",
    "    L = np.array(Li)  # 观测向量\n",
    "    Q = inv(A.T.dot(A))\n",
    "    dX = Q.dot(A.T.dot(L)) \n",
    "    redx.append(dX)\n",
    "    X += dX\n",
    "    rex.append(X)\n",
    "    "
   ]
  },
  {
   "cell_type": "code",
   "execution_count": 11,
   "id": "missing-blowing",
   "metadata": {},
   "outputs": [
    {
     "data": {
      "text/plain": [
       "array([ 6.04820450e-09, -1.90777047e-08, -6.74626557e-09, -4.25948005e-17])"
      ]
     },
     "execution_count": 11,
     "metadata": {},
     "output_type": "execute_result"
    }
   ],
   "source": [
    "dX"
   ]
  },
  {
   "cell_type": "code",
   "execution_count": 12,
   "id": "oriental-feeling",
   "metadata": {},
   "outputs": [
    {
     "data": {
      "text/plain": [
       "array([-2.42990928e+06,  5.37378955e+06,  2.41907143e+06, -7.26668017e-07])"
      ]
     },
     "execution_count": 12,
     "metadata": {},
     "output_type": "execute_result"
    }
   ],
   "source": [
    "X"
   ]
  },
  {
   "cell_type": "code",
   "execution_count": 13,
   "id": "formed-sussex",
   "metadata": {},
   "outputs": [
    {
     "data": {
      "text/plain": [
       "[array([-2.42990928e+06,  5.37378955e+06,  2.41907143e+06, -7.26668017e-07]),\n",
       " array([-2.42990928e+06,  5.37378955e+06,  2.41907143e+06, -7.26668017e-07]),\n",
       " array([-2.42990928e+06,  5.37378955e+06,  2.41907143e+06, -7.26668017e-07]),\n",
       " array([-2.42990928e+06,  5.37378955e+06,  2.41907143e+06, -7.26668017e-07]),\n",
       " array([-2.42990928e+06,  5.37378955e+06,  2.41907143e+06, -7.26668017e-07]),\n",
       " array([-2.42990928e+06,  5.37378955e+06,  2.41907143e+06, -7.26668017e-07])]"
      ]
     },
     "execution_count": 13,
     "metadata": {},
     "output_type": "execute_result"
    }
   ],
   "source": [
    "rex"
   ]
  },
  {
   "cell_type": "code",
   "execution_count": 14,
   "id": "signal-match",
   "metadata": {},
   "outputs": [
    {
     "data": {
      "text/plain": [
       "[array([-2.89212542e+06,  6.29455047e+06,  2.87195627e+06,  4.08209035e-03]),\n",
       " array([ 4.49590177e+05, -8.99472521e+05, -4.41168060e+05, -3.97262637e-03]),\n",
       " array([ 1.26169301e+04, -2.12742428e+04, -1.17085077e+04, -1.10121106e-04]),\n",
       " array([ 9.02698825e+00, -1.41594629e+01, -8.27193176e+00, -6.95351872e-08]),\n",
       " array([-2.20528302e-05, -3.12093324e-04, -1.99910473e-04, -6.25817413e-13]),\n",
       " array([ 6.04820450e-09, -1.90777047e-08, -6.74626557e-09, -4.25948005e-17])]"
      ]
     },
     "execution_count": 14,
     "metadata": {},
     "output_type": "execute_result"
    }
   ],
   "source": [
    "redx"
   ]
  },
  {
   "cell_type": "code",
   "execution_count": null,
   "id": "verbal-workshop",
   "metadata": {},
   "outputs": [],
   "source": []
  }
 ],
 "metadata": {
  "kernelspec": {
   "display_name": "Python 3",
   "language": "python",
   "name": "python3"
  },
  "language_info": {
   "codemirror_mode": {
    "name": "ipython",
    "version": 3
   },
   "file_extension": ".py",
   "mimetype": "text/x-python",
   "name": "python",
   "nbconvert_exporter": "python",
   "pygments_lexer": "ipython3",
   "version": "3.8.5"
  }
 },
 "nbformat": 4,
 "nbformat_minor": 5
}
