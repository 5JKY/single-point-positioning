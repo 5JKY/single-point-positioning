{
 "cells": [
  {
   "cell_type": "markdown",
   "id": "cleared-reference",
   "metadata": {},
   "source": [
    "# 单历元定位要求基于GPS系统的C1C和C2W观测值，组成无电离层组合的观测值，计算2019年7月15号06:55:30的坐标。\n",
    "## hkws1960.19o是观测文件，igs20621.sp3是精密星历文件。"
   ]
  },
  {
   "cell_type": "markdown",
   "id": "nonprofit-plane",
   "metadata": {},
   "source": [
    "##### 1.读取hkws1960.19o观测文件，将GPS系统的C1C和C2W观测值分别存在两个列表中。"
   ]
  },
  {
   "cell_type": "code",
   "execution_count": 1,
   "id": "royal-filename",
   "metadata": {},
   "outputs": [],
   "source": [
    "import numpy as np\n",
    "\n",
    "obsfile = 'hkws1960.19o'\n",
    "satnames = [] # 保存卫星编号\n",
    "c1c = [] # 保存L1伪距观测值\n",
    "c2w = [] # 保存L2伪距观测值\n",
    "\n",
    "with open(obsfile) as file_object:\n",
    "    for line in file_object:\n",
    "        if line[2:29] == '2019 07 15 06 55 30.0000000':\n",
    "            number = int(line[32:35])\n",
    "            for i in range(number):\n",
    "                if line[0] == 'G':  # 选出所有GPS观测数据\n",
    "                    # 每个数据占16列，第i个数据的起始列数为4 + 16(𝑖 − 1)\n",
    "                    satnames.append(line[0:3])\n",
    "                    c1c.append(float(line[3+16*(1-1):4+16*(1-1)+16]))  # C1C为第1个数据\n",
    "                    c2w.append(float(line[3+16*(9-1)-1:4+16*(9-1)+16]))  #C2W为第9个数据\n",
    "                line = file_object.readline() # 读取行不以字符'G'开头，继续向下读取\n",
    "            break # 收集完'2019 07 15 06 55 30.0000000'时的数据即可退出文件读取循环\n",
    "\n",
    "if len(c1c)==len(c2w):\n",
    "    satnum = len(c1c) \n",
    "    \n",
    "p1 = np.array(c1c) #存在1*9的矩阵中\n",
    "p2 = np.array(c2w)"
   ]
  },
  {
   "cell_type": "code",
   "execution_count": 2,
   "id": "varied-potter",
   "metadata": {},
   "outputs": [
    {
     "data": {
      "text/plain": [
       "9"
      ]
     },
     "execution_count": 2,
     "metadata": {},
     "output_type": "execute_result"
    }
   ],
   "source": [
    "satnames\n",
    "satnum"
   ]
  },
  {
   "cell_type": "markdown",
   "id": "celtic-portrait",
   "metadata": {},
   "source": [
    "##### 2.读取igs20621.sp3精密星历文件，获得卫星所在星历的时间、位置和钟差信息"
   ]
  },
  {
   "cell_type": "code",
   "execution_count": 3,
   "id": "familiar-canvas",
   "metadata": {},
   "outputs": [],
   "source": [
    "igsfile = 'igs20621.sp3'\n",
    "# 需定位的时间为2019年7月15号06:55:30 \n",
    "# 根据SP3文件每15min一组数据（起始时刻为00:00:00），在需定位时间之前最接近的星历时间为2019年7月15号06:45:00 \n",
    "# 从这个时间点再向前推4组，即选取2019年7月15号05:45：00 \n",
    "igsT = [] # 存储观测卫星在7月15各个所取星历的时间 (min)\n",
    "sXdata = [] # 存储观测卫星在各个所取星历时间的x坐标 (km)\n",
    "sYdata = [] # 存储观测卫星在各个所取星历时间的y坐标 (km)\n",
    "sZdata = [] # 存储观测卫星在各个所取星历时间的z坐标 (km)\n",
    "sClock = [] # 存储观测卫星在各个所取星历时间的钟差(μs)\n",
    "\n",
    "with open(igsfile) as file_object:\n",
    "    for line in file_object:\n",
    "        if line[3:31] == '2019  7 15  5 45  0.00000000':\n",
    "            igsT.append(float(line[14:16])*60 + float(line[17:19]) + float(line[20:31])/60) \n",
    "            \n",
    "            # 卫星位置（km）和钟差（μs）依次为X、Y、Z、钟差每个数据占14列\n",
    "            # 第i个数据的起始列为 5 + 14(i - 1)\n",
    "            while(len(igsT)<=10):   # 以时间t为准，向前找5组精密星历，向后找5组精密星历，需10组\n",
    "                line = file_object.readline()\n",
    "                for n in range(satnum):  # 读一组选取时间点的星历，存储9个观测卫星参数\n",
    "                    while line[1:4] != satnames[n]:\n",
    "                        line = file_object.readline()\n",
    "                    sXdata.append(float(line[4+14*(1-1):5+14*(1-1)+14]))                            \n",
    "                    sYdata.append(float(line[4+14*(2-1):5+14*(2-1)+14]))\n",
    "                    sZdata.append(float(line[4+14*(3-1):5+14*(3-1)+14]))\n",
    "                    sClock.append(float(line[4+14*(4-1):5+14*(4-1)+14]))\n",
    "                if len(igsT) == 10:\n",
    "                    break\n",
    "                else:\n",
    "                    while(line[0] != '*'):\n",
    "                        line = file_object.readline()\n",
    "                    igsT.append(float(line[14:16])*60 + float(line[17:19]) + float(line[20:31])/60) \n",
    "            break\n",
    "\n",
    "            "
   ]
  },
  {
   "cell_type": "code",
   "execution_count": 4,
   "id": "formed-carol",
   "metadata": {},
   "outputs": [
    {
     "data": {
      "text/plain": [
       "90"
      ]
     },
     "execution_count": 4,
     "metadata": {},
     "output_type": "execute_result"
    }
   ],
   "source": [
    "igsT\n",
    "len(sXdata)"
   ]
  },
  {
   "cell_type": "code",
   "execution_count": 5,
   "id": "finnish-collar",
   "metadata": {},
   "outputs": [],
   "source": [
    "sXmtr = np.array(sXdata).reshape(satnum,10)\n",
    "sYmtr = np.array(sYdata).reshape(satnum,10)\n",
    "sZmtr = np.array(sZdata).reshape(satnum,10)\n",
    "sCmtr = np.array(sClock).reshape(satnum,10)"
   ]
  },
  {
   "cell_type": "code",
   "execution_count": 15,
   "id": "exceptional-storm",
   "metadata": {},
   "outputs": [
    {
     "data": {
      "text/plain": [
       "array([[ 13759.577218,   5443.613066,   1508.501602, -24466.853703,\n",
       "         14162.656881, -11750.975259,  -5164.670858, -25884.150666,\n",
       "        -12915.242229,  13016.695402],\n",
       "       [  4701.165208,     85.414037, -25036.802625,  13164.618072,\n",
       "        -13810.346006,  -7611.410737, -25040.669237, -12905.582943,\n",
       "         12045.355038,   4099.744755],\n",
       "       [ -1534.38156 , -25308.376379,  12302.234942, -15669.765144,\n",
       "         -9929.313823, -23952.094217, -12810.456866,  10841.004578,\n",
       "          3619.36445 ,  -3332.746151],\n",
       "       [-25287.022798,  11588.77204 , -17296.861402, -12073.870973,\n",
       "        -22648.928284, -12669.323964,   9406.919266,   3234.063549,\n",
       "         -5283.641597, -24986.564807],\n",
       "       [ 11028.910758, -18666.394787, -14006.564767, -21166.709316,\n",
       "        -12521.854866,   7754.179649,   2913.08721 ,  -7353.953004,\n",
       "        -24428.617437,  10618.699401],\n",
       "       [-19761.107258, -15696.174568, -19544.753388, -12406.197033,\n",
       "          5901.380266,   2622.267675,  -9504.586309, -23641.715162,\n",
       "         10345.859683, -20572.295205],\n",
       "       [-17119.781071, -17824.779756, -12357.271848,   3874.084065,\n",
       "          2325.553551, -11691.799475, -22660.1829  ,  10190.432361,\n",
       "        -21100.076181, -18263.434197],\n",
       "       [-16049.463627, -12405.178457,   1704.04459 ,   1986.626337,\n",
       "        -13868.717054, -21522.794049,  10125.730925, -21353.332189,\n",
       "        -19122.463499, -14260.96442 ],\n",
       "       [-12573.779539,   -571.776426,   1570.538641, -15986.97109 ,\n",
       "        -20271.26741 ,  10119.560265, -21349.323192, -19701.425831,\n",
       "        -12499.478071, -12879.539212]])"
      ]
     },
     "execution_count": 15,
     "metadata": {},
     "output_type": "execute_result"
    }
   ],
   "source": [
    "sXmtr"
   ]
  },
  {
   "cell_type": "markdown",
   "id": "sublime-flavor",
   "metadata": {},
   "source": [
    "##### 3.以igsT时间为自变量使用9阶拉格朗日插值，解算出所求时刻的观测卫星信息"
   ]
  },
  {
   "cell_type": "code",
   "execution_count": 7,
   "id": "classical-momentum",
   "metadata": {},
   "outputs": [],
   "source": [
    "from scipy.interpolate import lagrange\n",
    "\n",
    "xs = []\n",
    "ys = []\n",
    "zs = []\n",
    "dts = []\n",
    "t = 6*60 + 55 + 30/60  # t为插值时间\n",
    "\n",
    "for i in range(satnum):\n",
    "    sx_poly = lagrange(igsT, sXmtr[i])\n",
    "    xs.append(sx_poly(t))\n",
    "    sy_poly = lagrange(igsT, sYmtr[i])\n",
    "    ys.append(sy_poly(t))\n",
    "    sz_poly = lagrange(igsT, sZmtr[i])\n",
    "    zs.append(sz_poly(t))\n",
    "    sc_poly = lagrange(igsT, sCmtr[i])\n",
    "    dts.append(sc_poly(t))\n",
    "\n",
    "# 将观测卫星的位置和钟差转换为矩阵\n",
    "satPos = np.array([xs, ys, zs])\n",
    "dTs = np.array(dts)\n",
    "\n",
    "xs = np.array(xs)\n",
    "ys = np.array(ys)\n",
    "zs = np.array(zs)\n",
    "xs *= 1000\n",
    "ys *= 1000 \n",
    "zs *= 1000\n",
    "\n",
    "satPos *= 1000 # km转换为m\n",
    "dTs *= 10**(-6) # μs转换为s"
   ]
  },
  {
   "cell_type": "code",
   "execution_count": 8,
   "id": "apparent-rugby",
   "metadata": {},
   "outputs": [
    {
     "data": {
      "text/plain": [
       "array([[ -2354937.5       , -10352578.125     , -19325945.3125    ,\n",
       "        -18843910.15625   ,   3284648.4375    ,   5411640.625     ,\n",
       "         -6137527.34375   , -24541828.125     ,   4927609.375     ],\n",
       "       [ 10787922.42050171,  17398281.25      ,    366976.5625    ,\n",
       "         13347710.9375    ,  19989890.625     ,  24647195.3125    ,\n",
       "         16643605.46875   ,   2140833.984375  ,  17772179.6875    ],\n",
       "       [ 22415593.75      ,  19450652.34375   ,  17239257.8125    ,\n",
       "         -7119328.125     ,  10296125.        ,   4590625.        ,\n",
       "         14267890.625     ,  18341359.375     ,  12615777.34375   ]])"
      ]
     },
     "execution_count": 8,
     "metadata": {},
     "output_type": "execute_result"
    }
   ],
   "source": [
    "satPos"
   ]
  },
  {
   "cell_type": "code",
   "execution_count": 9,
   "id": "annual-gamma",
   "metadata": {},
   "outputs": [
    {
     "data": {
      "text/plain": [
       "array([ 1.47648376e-04, -1.75914989e-04, -3.58944092e-04,  6.30683105e-04,\n",
       "        6.77539062e-05, -1.77857422e-04,  1.28061523e-04,  3.22950195e-04,\n",
       "        2.83077881e-04])"
      ]
     },
     "execution_count": 9,
     "metadata": {},
     "output_type": "execute_result"
    }
   ],
   "source": [
    "dTs"
   ]
  },
  {
   "cell_type": "markdown",
   "id": "artistic-honey",
   "metadata": {},
   "source": [
    "##### 4.组成观测方程(V=L-A*dX, P)，P可取单位阵"
   ]
  },
  {
   "cell_type": "code",
   "execution_count": 10,
   "id": "focused-pacific",
   "metadata": {},
   "outputs": [],
   "source": [
    "from math import sqrt\n",
    "from numpy.linalg import inv\n",
    "\n",
    "f1 = 1575.42 # C1C载波频率\n",
    "f2 = 1227.6 # C2W载波频率\n",
    "c = 299792458\n",
    "PC = f1**2/(f1**2 - f2**2)*p1 - f2**2/(f1**2 - f2**2)*p2\n",
    "dX = np.ones(4)\n",
    "X = np.zeros(4)\n",
    "re = []\n",
    "\n",
    "while sqrt(dX[0]**2+dX[1]**2+dX[2]**2) >= 0.0001:\n",
    "    Li = []\n",
    "    Ai = []\n",
    "    for i in range(satnum):\n",
    "        pho = sqrt((satPos[0,i]-X[0])**2+(satPos[1,i]-X[1])**2+(satPos[2,i]-X[2])**2)\n",
    "        Li.append(PC[i]-pho-c*X[3]+c*dTs[i])\n",
    "        Ai.append([(X[0]-satPos[0,i])/pho, (X[1]-satPos[1,i])/pho, (X[2]-satPos[2,i])/pho, c])\n",
    "    A = np.array(Ai).reshape(satnum, 4)\n",
    "    L = np.array(Li)\n",
    "    Q = inv(A.T.dot(A))\n",
    "    dX = Q.dot(A.T.dot(L))\n",
    "    re.append(dX)\n",
    "    X += dX\n",
    "\n"
   ]
  },
  {
   "cell_type": "code",
   "execution_count": 11,
   "id": "missing-blowing",
   "metadata": {},
   "outputs": [
    {
     "data": {
      "text/plain": [
       "array([-4.14271770e+06,  1.77850590e+06,  2.47518704e+06,  1.00993203e-03])"
      ]
     },
     "execution_count": 11,
     "metadata": {},
     "output_type": "execute_result"
    }
   ],
   "source": [
    "X"
   ]
  },
  {
   "cell_type": "code",
   "execution_count": 12,
   "id": "oriental-feeling",
   "metadata": {},
   "outputs": [
    {
     "data": {
      "text/plain": [
       "array([  715364.44827855, -1737510.21973805,  -117082.78819306,\n",
       "        1487298.21896209,  1699692.03902309, -4180190.64951654,\n",
       "        1288063.10881006, -1003434.17954668,  1847800.02192053])"
      ]
     },
     "execution_count": 12,
     "metadata": {},
     "output_type": "execute_result"
    }
   ],
   "source": [
    "p1\n",
    "\n",
    "dX = np.ones(4)\n",
    "dX\n",
    "L"
   ]
  },
  {
   "cell_type": "code",
   "execution_count": 13,
   "id": "quantitative-debate",
   "metadata": {},
   "outputs": [
    {
     "data": {
      "text/plain": [
       "32"
      ]
     },
     "execution_count": 13,
     "metadata": {},
     "output_type": "execute_result"
    }
   ],
   "source": [
    "a1 = np.array([1, 2, 3]) \n",
    "a2 = np.array([4, 5, 6])\n",
    "#a = np.append(a2, a1)\n",
    "P = np.identity(3)\n",
    "a2 * a1\n",
    "a3 = np.array([a1, a2])\n",
    "a4 = np.array([a1, a2]).T\n",
    "inv(a4.T.dot(P).dot(a4))\n",
    "2*inv(np.array([[1,0],[0,1]]))\n",
    "a1.T.dot(a2)"
   ]
  },
  {
   "cell_type": "code",
   "execution_count": 14,
   "id": "bulgarian-integer",
   "metadata": {},
   "outputs": [
    {
     "ename": "TypeError",
     "evalue": "array() missing required argument 'object' (pos 1)",
     "output_type": "error",
     "traceback": [
      "\u001b[1;31m---------------------------------------------------------------------------\u001b[0m",
      "\u001b[1;31mTypeError\u001b[0m                                 Traceback (most recent call last)",
      "\u001b[1;32m<ipython-input-14-aa53560c2c6c>\u001b[0m in \u001b[0;36m<module>\u001b[1;34m\u001b[0m\n\u001b[0;32m      4\u001b[0m \u001b[0mb\u001b[0m\u001b[1;33m.\u001b[0m\u001b[0mshape\u001b[0m\u001b[1;33m\u001b[0m\u001b[1;33m\u001b[0m\u001b[0m\n\u001b[0;32m      5\u001b[0m \u001b[0mnp\u001b[0m\u001b[1;33m.\u001b[0m\u001b[0mconcatenate\u001b[0m\u001b[1;33m(\u001b[0m\u001b[1;33m(\u001b[0m\u001b[0ma\u001b[0m\u001b[1;33m,\u001b[0m\u001b[0mb\u001b[0m\u001b[1;33m)\u001b[0m\u001b[1;33m,\u001b[0m\u001b[0maxis\u001b[0m\u001b[1;33m=\u001b[0m\u001b[1;36m1\u001b[0m\u001b[1;33m)\u001b[0m\u001b[1;33m\u001b[0m\u001b[1;33m\u001b[0m\u001b[0m\n\u001b[1;32m----> 6\u001b[1;33m \u001b[0mc\u001b[0m \u001b[1;33m=\u001b[0m \u001b[0mnp\u001b[0m\u001b[1;33m.\u001b[0m\u001b[0marray\u001b[0m\u001b[1;33m(\u001b[0m\u001b[1;33m)\u001b[0m\u001b[1;33m\u001b[0m\u001b[1;33m\u001b[0m\u001b[0m\n\u001b[0m\u001b[0;32m      7\u001b[0m \u001b[0mc\u001b[0m \u001b[1;33m=\u001b[0m \u001b[0mnp\u001b[0m\u001b[1;33m.\u001b[0m\u001b[0mconcatenate\u001b[0m\u001b[1;33m(\u001b[0m\u001b[0mc\u001b[0m\u001b[1;33m,\u001b[0m \u001b[0ma\u001b[0m\u001b[1;33m)\u001b[0m\u001b[1;33m\u001b[0m\u001b[1;33m\u001b[0m\u001b[0m\n",
      "\u001b[1;31mTypeError\u001b[0m: array() missing required argument 'object' (pos 1)"
     ]
    }
   ],
   "source": [
    "a=np.array([[1,2,3],[4,5,6]])\n",
    "b=np.array([[11,21,31],[7,8,9]])\n",
    "a.shape\n",
    "b.shape\n",
    "np.concatenate((a,b),axis=1)\n",
    "c = np.array()\n",
    "c = np.concatenate(c, a)"
   ]
  },
  {
   "cell_type": "code",
   "execution_count": null,
   "id": "worth-trailer",
   "metadata": {},
   "outputs": [],
   "source": [
    "a1 = np.array([[1, 2, 3],[2, 3, 4]]) \n",
    "a2 = np.array([[4, 5, 6],[5, 6, 7]])\n",
    "inv(a1.dot(a2.T))"
   ]
  },
  {
   "cell_type": "code",
   "execution_count": null,
   "id": "molecular-walter",
   "metadata": {},
   "outputs": [],
   "source": [
    "a1 = np.array([[1, 2, 3],[1, 2, 3]]) \n",
    "a2 = np.array([4, 5, 6])\n",
    "a2.dot(a1.T)"
   ]
  },
  {
   "cell_type": "code",
   "execution_count": null,
   "id": "occasional-rates",
   "metadata": {},
   "outputs": [],
   "source": []
  }
 ],
 "metadata": {
  "kernelspec": {
   "display_name": "Python 3",
   "language": "python",
   "name": "python3"
  },
  "language_info": {
   "codemirror_mode": {
    "name": "ipython",
    "version": 3
   },
   "file_extension": ".py",
   "mimetype": "text/x-python",
   "name": "python",
   "nbconvert_exporter": "python",
   "pygments_lexer": "ipython3",
   "version": "3.8.5"
  }
 },
 "nbformat": 4,
 "nbformat_minor": 5
}
